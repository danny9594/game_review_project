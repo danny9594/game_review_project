{
 "cells": [
  {
   "cell_type": "code",
   "execution_count": 116,
   "metadata": {},
   "outputs": [],
   "source": [
    "import pandas as pd\n",
    "import numpy as np\n",
    "from sklearn.feature_extraction.text import TfidfVectorizer\n",
    "from sklearn.metrics.pairwise import linear_kernel"
   ]
  },
  {
   "cell_type": "code",
   "execution_count": 115,
   "metadata": {},
   "outputs": [],
   "source": [
    "# 데이터를 불러오면서 리뷰 열만 가져오기\n",
    "data = pd.read_csv('./data/similar_data', encoding='ANSI')\n",
    "data_review = data.REVIEW"
   ]
  },
  {
   "cell_type": "code",
   "execution_count": 77,
   "metadata": {},
   "outputs": [
    {
     "name": "stdout",
     "output_type": "stream",
     "text": [
      "리뷰를 입력하세요: 눈이 즐겁다..\n",
      "눈이 즐겁다..\n"
     ]
    }
   ],
   "source": [
    "a = input('리뷰를 입력하세요: ')\n",
    "print(a)"
   ]
  },
  {
   "cell_type": "code",
   "execution_count": 93,
   "metadata": {},
   "outputs": [
    {
     "data": {
      "text/plain": [
       "7280"
      ]
     },
     "execution_count": 93,
     "metadata": {},
     "output_type": "execute_result"
    }
   ],
   "source": [
    "len(data_review)"
   ]
  },
  {
   "cell_type": "code",
   "execution_count": 117,
   "metadata": {},
   "outputs": [
    {
     "data": {
      "text/html": [
       "<div>\n",
       "<style scoped>\n",
       "    .dataframe tbody tr th:only-of-type {\n",
       "        vertical-align: middle;\n",
       "    }\n",
       "\n",
       "    .dataframe tbody tr th {\n",
       "        vertical-align: top;\n",
       "    }\n",
       "\n",
       "    .dataframe thead th {\n",
       "        text-align: right;\n",
       "    }\n",
       "</style>\n",
       "<table border=\"1\" class=\"dataframe\">\n",
       "  <thead>\n",
       "    <tr style=\"text-align: right;\">\n",
       "      <th></th>\n",
       "      <th>DATE</th>\n",
       "      <th>REVIEW</th>\n",
       "      <th>star</th>\n",
       "      <th>label</th>\n",
       "    </tr>\n",
       "  </thead>\n",
       "  <tbody>\n",
       "    <tr>\n",
       "      <th>0</th>\n",
       "      <td>2021-03-11</td>\n",
       "      <td>과금자로서 그래픽등 모든게 마음에 드는데 단 마음에 안드는부분..지금멀티에어 수동과...</td>\n",
       "      <td>5</td>\n",
       "      <td>1</td>\n",
       "    </tr>\n",
       "    <tr>\n",
       "      <th>1</th>\n",
       "      <td>2021-03-12</td>\n",
       "      <td>음.. 게임에 과금요소 있는거 좋아요 게임회사도 먹고살아야하니깐.. 근데 차한대에 ...</td>\n",
       "      <td>1</td>\n",
       "      <td>0</td>\n",
       "    </tr>\n",
       "    <tr>\n",
       "      <th>2</th>\n",
       "      <td>2021-02-24</td>\n",
       "      <td>저 이거 3년반차데 와.... 차구하는것도 겁나 싸고 그리고 차도 너무 멋지고 1등...</td>\n",
       "      <td>5</td>\n",
       "      <td>1</td>\n",
       "    </tr>\n",
       "    <tr>\n",
       "      <th>3</th>\n",
       "      <td>2021-02-17</td>\n",
       "      <td>제가 예전에 게임 다운이 오래걸린다고 실망했다는 글을 썼었는데 완전 잘못쓴 글이었네...</td>\n",
       "      <td>5</td>\n",
       "      <td>1</td>\n",
       "    </tr>\n",
       "    <tr>\n",
       "      <th>4</th>\n",
       "      <td>2021-03-01</td>\n",
       "      <td>게임 내 모든 것에 만족합니다. 클럽, 설계도, 패스, 그래픽 등등 모든것에 만족하...</td>\n",
       "      <td>5</td>\n",
       "      <td>1</td>\n",
       "    </tr>\n",
       "  </tbody>\n",
       "</table>\n",
       "</div>"
      ],
      "text/plain": [
       "         DATE                                             REVIEW  star  label\n",
       "0  2021-03-11  과금자로서 그래픽등 모든게 마음에 드는데 단 마음에 안드는부분..지금멀티에어 수동과...     5      1\n",
       "1  2021-03-12  음.. 게임에 과금요소 있는거 좋아요 게임회사도 먹고살아야하니깐.. 근데 차한대에 ...     1      0\n",
       "2  2021-02-24  저 이거 3년반차데 와.... 차구하는것도 겁나 싸고 그리고 차도 너무 멋지고 1등...     5      1\n",
       "3  2021-02-17  제가 예전에 게임 다운이 오래걸린다고 실망했다는 글을 썼었는데 완전 잘못쓴 글이었네...     5      1\n",
       "4  2021-03-01  게임 내 모든 것에 만족합니다. 클럽, 설계도, 패스, 그래픽 등등 모든것에 만족하...     5      1"
      ]
     },
     "execution_count": 117,
     "metadata": {},
     "output_type": "execute_result"
    }
   ],
   "source": [
    "# 필요없는데 label에서의 긍/부정 비율만 확인하고자 넣은 것...\n",
    "data['label'] = np.select([data.star > 3], [1], default=0)\n",
    "data.head()"
   ]
  },
  {
   "cell_type": "code",
   "execution_count": 118,
   "metadata": {},
   "outputs": [
    {
     "data": {
      "text/plain": [
       "<AxesSubplot:>"
      ]
     },
     "execution_count": 118,
     "metadata": {},
     "output_type": "execute_result"
    },
    {
     "data": {
      "image/png": "[encoded data removed]",
      "text/plain": [
       "<Figure size 432x288 with 1 Axes>"
      ]
     },
     "metadata": {
      "needs_background": "light"
     },
     "output_type": "display_data"
    }
   ],
   "source": [
    "data['label'].value_counts().plot(kind = 'bar')"
   ]
  },
  {
   "cell_type": "code",
   "execution_count": 119,
   "metadata": {},
   "outputs": [
    {
     "name": "stdout",
     "output_type": "stream",
     "text": [
      "   label  count\n",
      "0      0   2043\n",
      "1      1   5237\n"
     ]
    }
   ],
   "source": [
    "print(data.groupby('label').size().reset_index(name = 'count'))"
   ]
  },
  {
   "cell_type": "code",
   "execution_count": 121,
   "metadata": {},
   "outputs": [
    {
     "name": "stdout",
     "output_type": "stream",
     "text": [
      "7281\n",
      "            DATE                    REVIEW      star     label\n",
      "7271  2020-06-26                 심플해뎌서 좋다.         5         1\n",
      "7272  2019-01-09               설계도 모으기 힘드네         3         0\n",
      "7273  2020-05-13              차 얻기 너무 힘들어요         5         1\n",
      "7274  2020-09-11         아스팔트 8 에이본 보다 어렵다         5         1\n",
      "7275  2019-06-19  치터들 좀 잡아라 니들 그러다 베그 꼴 난다         1         0\n",
      "7276  2018-10-07                  눈이 즐겁다..         5         1\n",
      "7277  2020-09-12             게임이 안깔린다 ㅃㅃㅃㅃ         1         0\n",
      "7278  2020-10-01                레전드 없으면 망함         5         1\n",
      "7279  2018-10-13                게임 자체가 않깔림         1         0\n",
      "7280    눈이 즐겁다..                  눈이 즐겁다..  눈이 즐겁다..  눈이 즐겁다..\n"
     ]
    }
   ],
   "source": [
    "# 맨 마지막 행에 입력한 리뷰를 넣기\n",
    "data.loc[len(data_review)] = a\n",
    "print(len(data))\n",
    "print(data.tail(10))"
   ]
  },
  {
   "cell_type": "code",
   "execution_count": 122,
   "metadata": {},
   "outputs": [
    {
     "data": {
      "text/plain": [
       "23"
      ]
     },
     "execution_count": 122,
     "metadata": {},
     "output_type": "execute_result"
    }
   ],
   "source": [
    "data['REVIEW'].duplicated().sum()"
   ]
  },
  {
   "cell_type": "code",
   "execution_count": 123,
   "metadata": {},
   "outputs": [
    {
     "name": "stdout",
     "output_type": "stream",
     "text": [
      "7258\n"
     ]
    }
   ],
   "source": [
    "data.drop_duplicates('REVIEW', keep=\"first\", inplace=True)\n",
    "data['REVIEW'].duplicated().sum()\n",
    "print(len(data))"
   ]
  },
  {
   "cell_type": "code",
   "execution_count": 124,
   "metadata": {},
   "outputs": [
    {
     "name": "stdout",
     "output_type": "stream",
     "text": [
      "7258\n",
      "      index        DATE                    REVIEW star label\n",
      "7248   7270  2020-01-10      아직은 할만하네 좀 더 진행보겠습니다    4     1\n",
      "7249   7271  2020-06-26                 심플해뎌서 좋다.    5     1\n",
      "7250   7272  2019-01-09               설계도 모으기 힘드네    3     0\n",
      "7251   7273  2020-05-13              차 얻기 너무 힘들어요    5     1\n",
      "7252   7274  2020-09-11         아스팔트 8 에이본 보다 어렵다    5     1\n",
      "7253   7275  2019-06-19  치터들 좀 잡아라 니들 그러다 베그 꼴 난다    1     0\n",
      "7254   7276  2018-10-07                  눈이 즐겁다..    5     1\n",
      "7255   7277  2020-09-12             게임이 안깔린다 ㅃㅃㅃㅃ    1     0\n",
      "7256   7278  2020-10-01                레전드 없으면 망함    5     1\n",
      "7257   7279  2018-10-13                게임 자체가 않깔림    1     0\n"
     ]
    }
   ],
   "source": [
    "data.reset_index(inplace=True)\n",
    "print(len(data))\n",
    "print(data.tail(10))"
   ]
  },
  {
   "cell_type": "code",
   "execution_count": 125,
   "metadata": {},
   "outputs": [
    {
     "data": {
      "text/plain": [
       "7253    치터들 좀 잡아라 니들 그러다 베그 꼴 난다\n",
       "7254                    눈이 즐겁다..\n",
       "7255               게임이 안깔린다 ㅃㅃㅃㅃ\n",
       "7256                  레전드 없으면 망함\n",
       "7257                  게임 자체가 않깔림\n",
       "Name: REVIEW, dtype: object"
      ]
     },
     "execution_count": 125,
     "metadata": {},
     "output_type": "execute_result"
    }
   ],
   "source": [
    "data_review = data['REVIEW']\n",
    "data_review.tail()"
   ]
  },
  {
   "cell_type": "code",
   "execution_count": 126,
   "metadata": {},
   "outputs": [
    {
     "name": "stdout",
     "output_type": "stream",
     "text": [
      "(7258, 25156)\n"
     ]
    }
   ],
   "source": [
    "tfidf = TfidfVectorizer()\n",
    "# 리뷰 데이터에 대해서 tf-idf 수행\n",
    "tfidf_matrix = tfidf.fit_transform(data_review)\n",
    "print(tfidf_matrix.shape)\n",
    "# 29279의 데이터에서 119491개의 단어가 사용됨을 알 수 있음"
   ]
  },
  {
   "cell_type": "code",
   "execution_count": 127,
   "metadata": {},
   "outputs": [],
   "source": [
    "# 코사인 유사도 함수 입력\n",
    "cosine_sim = linear_kernel(tfidf_matrix, tfidf_matrix)"
   ]
  },
  {
   "cell_type": "code",
   "execution_count": 128,
   "metadata": {},
   "outputs": [
    {
     "data": {
      "text/plain": [
       "REVIEW\n",
       "과금자로서 그래픽등 모든게 마음에 드는데 단 마음에 안드는부분..지금멀티에어 수동과자동이 같이 플레이어 하는데 빠른시일내에 멀티플레이어에서 자동과수동 따로 패치해주시기 바랍니다..디코에도 수차레 의견을 올린것으로 아는데 언제 실행 해주실건가요? 멀티에서 수동유저들 한테 일부러 자동을 파손시켜 스트레스받아 멀티 못하겠습니다 ...제발요ㅜㅠ    0\n",
       "음.. 게임에 과금요소 있는거 좋아요 게임회사도 먹고살아야하니깐.. 근데 차한대에 꽂혀서 큰돈 아니지만 5만원 질러서 카드를 다 모았다? 근데 차키가 필요하대.. 하하하 이럴줄알았으면 그냥 안지를걸ㅎㅎ 차는 차대로 날라가고 돈은 돈대로쓰고 내가 이벤트 이해못한거 인정하는데 솔찍히 현타와서 접을거같음ㅋㅋㅋㄲㅋ                     1\n",
       "저 이거 3년반차데 와.... 차구하는것도 겁나 싸고 그리고 차도 너무 멋지고 1등하는 것 쉽고 하는 것도 간단하고 재밌고 좋은 겜이라고 생각합니다!! 앞으로도 열심히 업데이트 많이 해주세요!그리고 코로나 시대 최고의 게임이라고 생각합니다!! 저에 최고의 게임이 돼주셔서 감사합니다!!화이팅!!                             2\n",
       "제가 예전에 게임 다운이 오래걸린다고 실망했다는 글을 썼었는데 완전 잘못쓴 글이었네요. 플레이해보니 왜 다운이 오래걸리는지 이해가 됩니다. 그래픽은 말할것도 없이 최고고 차량도 굉장히 다양하네요. 레이싱에서 쇼크웨이브 쓰면 쾌감이 장난아니에요. 다시한번 최고입니다. 멋진게임 많이 만들어주세요!                             3\n",
       "게임 내 모든 것에 만족합니다. 클럽, 설계도, 패스, 그래픽 등등 모든것에 만족하지만 그래픽 부분에 안티 앨리어싱이 제대로 되지 않더라고요.. 안티앨리어싱만 좀 고쳐주시면 좋을거같습니다^^ 안티앨리어싱 반영부탁드립니다. 감사합니다!.                                                              4\n",
       "dtype: int64"
      ]
     },
     "execution_count": 128,
     "metadata": {},
     "output_type": "execute_result"
    }
   ],
   "source": [
    "# 중복을 제거하면서 리뷰내용을 인덱스로, 기존 인덱스를 본문 데이터로 이동\n",
    "# 이는 리뷰를 입력하면 인덱스를 출력하기 위함\n",
    "indices = pd.Series(data_review.index, index=data_review).drop_duplicates()\n",
    "indices.head()"
   ]
  },
  {
   "cell_type": "code",
   "execution_count": 129,
   "metadata": {},
   "outputs": [],
   "source": [
    "# 위의 내용을 바탕으로 코사인 유사도 함수식을 작성\n",
    "def get_recommendations(review, cosine_sim=cosine_sim):\n",
    "    # 입력한 리뷰로부터 해당되는 인덱스를 받아옴. 이제 선택한 리뷰를 가지고 연산\n",
    "    idx = indices[review]\n",
    "\n",
    "    # 모든 리뷰에 대해서 해당 리뷰와의 유사도를 구함\n",
    "    sim_scores = list(enumerate(cosine_sim[idx]))\n",
    "\n",
    "    # 유사도에 따라 리뷰들을 정렬\n",
    "    sim_scores = sorted(sim_scores, key=lambda x: x[1], reverse=True)\n",
    "#     sim_scores = sorted(sim_scores, reverse=True)\n",
    "\n",
    "    # 가장 유사한 10개의 리뷰를 받음\n",
    "    sim_scores = sim_scores[1:11]\n",
    "\n",
    "    # 가장 유사한 10개의 리뷰의 인덱스를 받음\n",
    "    review_indices = [i[0] for i in sim_scores]\n",
    "\n",
    "    # 가장 유사한 10개의 리뷰를 리턴\n",
    "    return data_review.iloc[review_indices]"
   ]
  },
  {
   "cell_type": "code",
   "execution_count": 130,
   "metadata": {},
   "outputs": [
    {
     "data": {
      "text/plain": [
       "2740                               눈이 즐겁다. 하지만 현질유도가 심하다.\n",
       "5107                                         그래픽에 눈이 즐겁네요\n",
       "2152                모바일 게임이라곤 놀라울만큼 발전한 그래픽, 눈이 아주 즐겁습니다!\n",
       "1774    레이싱 게임에서 운전을 안하는데 재밌기는 처음이네요 ㅋㅋ BGM과 눈이 즐거운 게임...\n",
       "1478    걍 그거임 8이 헬적이 너무 심하게되서 9하는거고 하다보니 9가 더 잼긴함 다만 얘...\n",
       "707     일단 핸들링이 오토라서 좋다 아스팔트8때는 속도 조금 빠르다하면 박고 차 박살났는데...\n",
       "0       과금자로서 그래픽등 모든게 마음에 드는데 단 마음에 안드는부분..지금멀티에어 수동과...\n",
       "1       음.. 게임에 과금요소 있는거 좋아요 게임회사도 먹고살아야하니깐.. 근데 차한대에 ...\n",
       "2       저 이거 3년반차데 와.... 차구하는것도 겁나 싸고 그리고 차도 너무 멋지고 1등...\n",
       "3       제가 예전에 게임 다운이 오래걸린다고 실망했다는 글을 썼었는데 완전 잘못쓴 글이었네...\n",
       "Name: REVIEW, dtype: object"
      ]
     },
     "execution_count": 130,
     "metadata": {},
     "output_type": "execute_result"
    }
   ],
   "source": [
    "# 입력된 리뷰를 유사도 함수에 넣기\n",
    "get_recommendations(a)"
   ]
  },
  {
   "cell_type": "code",
   "execution_count": 141,
   "metadata": {},
   "outputs": [],
   "source": [
    "result = get_recommendations(a)"
   ]
  },
  {
   "cell_type": "code",
   "execution_count": 144,
   "metadata": {},
   "outputs": [],
   "source": [
    "result = result.to_list()"
   ]
  },
  {
   "cell_type": "code",
   "execution_count": 145,
   "metadata": {},
   "outputs": [],
   "source": [
    "m = result"
   ]
  },
  {
   "cell_type": "code",
   "execution_count": 130,
   "metadata": {},
   "outputs": [],
   "source": [
    "# 원활한 html 값 추출을 위해 시리즈 타입인 result를 리스트 타입으로 변환\n",
    "## 필요없으면 삭제해도 무방\n",
    "# result = result.to_list()\n",
    "k = result[1]"
   ]
  },
  {
   "cell_type": "code",
   "execution_count": 150,
   "metadata": {},
   "outputs": [
    {
     "name": "stdout",
     "output_type": "stream",
     "text": [
      "계정 복구 해주세요\n",
      "음.. 게임에 과금요소 있는거 좋아요 게임회사도 먹고살아야하니깐.. 근데 차한대에 꽂혀서 큰돈 아니지만 5만원 질러서 카드를 다 모았다? 근데 차키가 필요하대.. 하하하 이럴줄알았으면 그냥 안지를걸ㅎㅎ 차는 차대로 날라가고 돈은 돈대로쓰고 내가 이벤트 이해못한거 인정하는데 솔찍히 현타와서 접을거같음ㅋㅋㅋㄲㅋ\n"
     ]
    }
   ],
   "source": [
    "print(m[3])\n",
    "print(k[2])"
   ]
  },
  {
   "cell_type": "code",
   "execution_count": null,
   "metadata": {},
   "outputs": [],
   "source": []
  }
 ],
 "metadata": {
  "kernelspec": {
   "display_name": "Python 3",
   "language": "python",
   "name": "python3"
  },
  "language_info": {
   "codemirror_mode": {
    "name": "ipython",
    "version": 3
   },
   "file_extension": ".py",
   "mimetype": "text/x-python",
   "name": "python",
   "nbconvert_exporter": "python",
   "pygments_lexer": "ipython3",
   "version": "3.8.5"
  }
 },
 "nbformat": 4,
 "nbformat_minor": 4
}